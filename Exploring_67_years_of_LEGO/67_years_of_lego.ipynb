{
 "cells": [
  {
   "cell_type": "markdown",
   "metadata": {
    "dc": {
     "key": "1d0b086e6c"
    },
    "deletable": false,
    "editable": false,
    "run_control": {
     "frozen": true
    },
    "tags": [
     "context"
    ]
   },
   "source": [
    "## 1. Introduction\n",
    "<p>Everyone loves Lego (unless you ever stepped on one). Did you know by the way that \"Lego\" was derived from the Danish phrase leg godt, which means \"play well\"? Unless you speak Danish, probably not. </p>\n",
    "<p>In this project, we will analyze a fascinating dataset on every single lego block that has ever been built!</p>\n",
    "<p><img src=\"https://s3.amazonaws.com/assets.datacamp.com/production/project_10/datasets/lego-bricks.jpeg\" alt=\"lego\"></p>"
   ]
  },
  {
   "cell_type": "code",
   "execution_count": 1,
   "metadata": {
    "dc": {
     "key": "1d0b086e6c"
    },
    "tags": [
     "sample_code"
    ]
   },
   "outputs": [],
   "source": [
    "# Nothing to do here"
   ]
  },
  {
   "cell_type": "markdown",
   "metadata": {
    "dc": {
     "key": "044b2cef41"
    },
    "deletable": false,
    "editable": false,
    "run_control": {
     "frozen": true
    },
    "tags": [
     "context"
    ]
   },
   "source": [
    "## 2. Reading Data\n",
    "<p>A comprehensive database of lego blocks is provided by <a href=\"https://rebrickable.com/downloads/\">Rebrickable</a>. The data is available as csv files and the schema is shown below.</p>\n",
    "<p><img src=\"https://s3.amazonaws.com/assets.datacamp.com/production/project_10/datasets/downloads_schema.png\" alt=\"schema\"></p>\n",
    "<p>Let us start by reading in the colors data to get a sense of the diversity of lego sets!</p>"
   ]
  },
  {
   "cell_type": "code",
   "execution_count": 2,
   "metadata": {
    "dc": {
     "key": "044b2cef41"
    },
    "tags": [
     "sample_code"
    ]
   },
   "outputs": [
    {
     "data": {
      "text/html": [
       "<div>\n",
       "<style scoped>\n",
       "    .dataframe tbody tr th:only-of-type {\n",
       "        vertical-align: middle;\n",
       "    }\n",
       "\n",
       "    .dataframe tbody tr th {\n",
       "        vertical-align: top;\n",
       "    }\n",
       "\n",
       "    .dataframe thead th {\n",
       "        text-align: right;\n",
       "    }\n",
       "</style>\n",
       "<table border=\"1\" class=\"dataframe\">\n",
       "  <thead>\n",
       "    <tr style=\"text-align: right;\">\n",
       "      <th></th>\n",
       "      <th>id</th>\n",
       "      <th>name</th>\n",
       "      <th>rgb</th>\n",
       "      <th>is_trans</th>\n",
       "    </tr>\n",
       "  </thead>\n",
       "  <tbody>\n",
       "    <tr>\n",
       "      <th>0</th>\n",
       "      <td>-1</td>\n",
       "      <td>Unknown</td>\n",
       "      <td>0033B2</td>\n",
       "      <td>f</td>\n",
       "    </tr>\n",
       "    <tr>\n",
       "      <th>1</th>\n",
       "      <td>0</td>\n",
       "      <td>Black</td>\n",
       "      <td>05131D</td>\n",
       "      <td>f</td>\n",
       "    </tr>\n",
       "    <tr>\n",
       "      <th>2</th>\n",
       "      <td>1</td>\n",
       "      <td>Blue</td>\n",
       "      <td>0055BF</td>\n",
       "      <td>f</td>\n",
       "    </tr>\n",
       "    <tr>\n",
       "      <th>3</th>\n",
       "      <td>2</td>\n",
       "      <td>Green</td>\n",
       "      <td>237841</td>\n",
       "      <td>f</td>\n",
       "    </tr>\n",
       "    <tr>\n",
       "      <th>4</th>\n",
       "      <td>3</td>\n",
       "      <td>Dark Turquoise</td>\n",
       "      <td>008F9B</td>\n",
       "      <td>f</td>\n",
       "    </tr>\n",
       "  </tbody>\n",
       "</table>\n",
       "</div>"
      ],
      "text/plain": [
       "   id            name     rgb is_trans\n",
       "0  -1         Unknown  0033B2        f\n",
       "1   0           Black  05131D        f\n",
       "2   1            Blue  0055BF        f\n",
       "3   2           Green  237841        f\n",
       "4   3  Dark Turquoise  008F9B        f"
      ]
     },
     "execution_count": 2,
     "metadata": {},
     "output_type": "execute_result"
    }
   ],
   "source": [
    "# Import modules\n",
    "import pandas as pd\n",
    "\n",
    "# Read colors data\n",
    "colors = pd.read_csv('datasets/colors.csv')\n",
    "\n",
    "# Print the first few rows\n",
    "colors.head()"
   ]
  },
  {
   "cell_type": "markdown",
   "metadata": {
    "dc": {
     "key": "15c1e2ce38"
    },
    "deletable": false,
    "editable": false,
    "run_control": {
     "frozen": true
    },
    "tags": [
     "context"
    ]
   },
   "source": [
    "## 3. Exploring Colors\n",
    "<p>Now that we have read the <code>colors</code> data, we can start exploring it! Let us start by understanding the number of colors available.</p>"
   ]
  },
  {
   "cell_type": "code",
   "execution_count": 3,
   "metadata": {
    "dc": {
     "key": "15c1e2ce38"
    },
    "tags": [
     "sample_code"
    ]
   },
   "outputs": [
    {
     "name": "stdout",
     "output_type": "stream",
     "text": [
      "<class 'pandas.core.frame.DataFrame'>\n",
      "135\n",
      "<class 'numpy.int32'>\n"
     ]
    }
   ],
   "source": [
    "# How many distinct colors are available?\n",
    "# -- YOUR CODE FOR TASK 3 --\n",
    "#num_colors = colors['rgb'].nunique()\n",
    "#num_colors2 = colors.value_counts()\n",
    "#print(num_colors)\n",
    "print(type(colors))\n",
    "#print(colors)\n",
    "#num_colors = colors['rgb'].count()\n",
    "num_colors = colors['rgb'].count()\n",
    "print(num_colors)\n",
    "print(type(num_colors))"
   ]
  },
  {
   "cell_type": "markdown",
   "metadata": {
    "dc": {
     "key": "a5723ae5c2"
    },
    "deletable": false,
    "editable": false,
    "run_control": {
     "frozen": true
    },
    "tags": [
     "context"
    ]
   },
   "source": [
    "## 4. Transparent Colors in Lego Sets\n",
    "<p>The <code>colors</code> data has a column named <code>is_trans</code> that indicates whether a color is transparent or not. It would be interesting to explore the distribution of transparent vs. non-transparent colors.</p>"
   ]
  },
  {
   "cell_type": "code",
   "execution_count": 4,
   "metadata": {
    "dc": {
     "key": "a5723ae5c2"
    },
    "tags": [
     "sample_code"
    ]
   },
   "outputs": [
    {
     "name": "stdout",
     "output_type": "stream",
     "text": [
      "           id  name  rgb\n",
      "is_trans                \n",
      "f         107   107  107\n",
      "t          28    28   28\n"
     ]
    }
   ],
   "source": [
    "# colors_summary: Distribution of colors based on transparency\n",
    "# -- YOUR CODE FOR TASK 4 --\n",
    "colors_summary = colors.groupby(['is_trans']).count()\n",
    "print(colors_summary)"
   ]
  },
  {
   "cell_type": "markdown",
   "metadata": {
    "dc": {
     "key": "c9d0e58653"
    },
    "deletable": false,
    "editable": false,
    "run_control": {
     "frozen": true
    },
    "tags": [
     "context"
    ]
   },
   "source": [
    "## 5. Explore Lego Sets\n",
    "<p>Another interesting dataset available in this database is the <code>sets</code> data. It contains a comprehensive list of sets over the years and the number of parts that each of these sets contained. </p>\n",
    "<p><img src=\"https://imgur.com/1k4PoXs.png\" alt=\"sets_data\"></p>\n",
    "<p>Let us use this data to explore how the average number of parts in Lego sets has varied over the years.</p>"
   ]
  },
  {
   "cell_type": "code",
   "execution_count": 11,
   "metadata": {
    "dc": {
     "key": "c9d0e58653"
    },
    "tags": [
     "sample_code"
    ]
   },
   "outputs": [
    {
     "name": "stdout",
     "output_type": "stream",
     "text": [
      "      num_parts\n",
      "year           \n",
      "1950  10.142857\n",
      "1953  16.500000\n",
      "1954  12.357143\n",
      "1955  36.857143\n",
      "1956  18.500000\n",
      "<class 'pandas.core.frame.DataFrame'>\n",
      "   year  num_parts\n",
      "0  1950  10.142857\n",
      "1  1953  16.500000\n",
      "2  1954  12.357143\n",
      "3  1955  36.857143\n",
      "4  1956  18.500000\n",
      "<class 'pandas.core.frame.DataFrame'>\n"
     ]
    },
    {
     "data": {
      "text/plain": [
       "<matplotlib.axes._subplots.AxesSubplot at 0x26c270dba58>"
      ]
     },
     "execution_count": 11,
     "metadata": {},
     "output_type": "execute_result"
    },
    {
     "data": {
      "image/png": "[encoded data removed]",
      "text/plain": [
       "<Figure size 432x288 with 1 Axes>"
      ]
     },
     "metadata": {},
     "output_type": "display_data"
    },
    {
     "data": {
      "image/png": "[encoded data removed]",
      "text/plain": [
       "<Figure size 432x288 with 1 Axes>"
      ]
     },
     "metadata": {},
     "output_type": "display_data"
    }
   ],
   "source": [
    "%matplotlib inline\n",
    "# Read sets data as `sets`\n",
    "sets = pd.read_csv('datasets/sets.csv')\n",
    "\n",
    "# Create a summary of average number of parts by year: `parts_by_year`\n",
    "parts_by_year = sets[['year', 'num_parts']].groupby('year').mean()\n",
    "print(parts_by_year.head())\n",
    "print(type(parts_by_year))\n",
    "# Plot trends in average number of parts by year\n",
    "#parts_by_year.set_ylabel('this is cool')\n",
    "parts_by_year.plot()\n",
    "\n",
    "# Create a summary of average number of parts by year: `parts_by_year`\n",
    "parts_by_year1 = sets[['year', 'num_parts']].groupby('year', as_index=False).mean()\n",
    "print(parts_by_year1.head())\n",
    "print(type(parts_by_year1))\n",
    "\n",
    "# Plot trends in average number of parts by year\n",
    "parts_by_year1.plot(x='year', y='num_parts', title='Trends in Average Number of parts by Year')\n",
    "\n",
    "# both syntax does the same thing; however type 1 is cleaner and more precise"
   ]
  },
  {
   "cell_type": "markdown",
   "metadata": {
    "dc": {
     "key": "266a3f390c"
    },
    "deletable": false,
    "editable": false,
    "run_control": {
     "frozen": true
    },
    "tags": [
     "context"
    ]
   },
   "source": [
    "## 6. Lego Themes Over Years\n",
    "<p>Lego blocks ship under multiple <a href=\"https://shop.lego.com/en-US/Themes\">themes</a>. Let us try to get a sense of how the number of themes shipped has varied over the years.</p>"
   ]
  },
  {
   "cell_type": "code",
   "execution_count": 12,
   "metadata": {
    "dc": {
     "key": "266a3f390c"
    },
    "tags": [
     "sample_code"
    ]
   },
   "outputs": [
    {
     "name": "stdout",
     "output_type": "stream",
     "text": [
      "    set_num                               name  year  theme_id  num_parts\n",
      "0      00-1                    Weetabix Castle  1970       414        471\n",
      "1    0011-2                  Town Mini-Figures  1978        84         12\n",
      "2    0011-3         Castle 2 for 1 Bonus Offer  1987       199          2\n",
      "3    0012-1                 Space Mini-Figures  1979       143         12\n",
      "4    0013-1                 Space Mini-Figures  1979       143         12\n",
      "5    0014-1                 Space Mini-Figures  1979       143         12\n",
      "6    0015-1                 Space Mini-Figures  1979       143         18\n",
      "7    0016-1                Castle Mini Figures  1978       186         15\n",
      "8      00-2       Weetabix Promotional House 1  1976       413        147\n",
      "9      00-3       Weetabix Promotional House 2  1976       413        149\n",
      "10     00-4      Weetabix Promotional Windmill  1976       413        126\n",
      "11    005-1    Basic Building Set in Cardboard  1965       366         35\n",
      "12     00-6                      Special Offer  1985        67          3\n",
      "13     00-7  Weetabix Promotional Lego Village  1976       413          3\n",
      "14    010-1    Basic Building Set in Cardboard  1965       366         57\n",
      "15    010-3                 Basic Building Set  1968       366         77\n",
      "16    011-1                 Basic Building Set  1968       366        145\n",
      "17    022-1                 Basic Building Set  1968       366        110\n",
      "18  03093-1    The Race to Build It Board Game  1999       502         70\n",
      "19    033-2                 Basic Building Set  1968       366        177\n",
      "    year    theme_id\n",
      "0   1950  370.285714\n",
      "1   1953  371.000000\n",
      "2   1954  371.142857\n",
      "3   1955  375.678571\n",
      "4   1956  381.833333\n",
      "5   1957  370.952381\n",
      "6   1958  371.119048\n",
      "7   1959  370.000000\n",
      "8   1960  460.333333\n",
      "9   1961  387.352941\n",
      "10  1962  294.050000\n",
      "11  1963  408.666667\n",
      "12  1964  395.090909\n",
      "13  1965  384.300000\n",
      "14  1966  355.910112\n",
      "15  1967  351.714286\n",
      "16  1968  337.640000\n",
      "17  1969  332.884058\n",
      "18  1970  384.206897\n",
      "19  1971  414.844444\n",
      "<class 'pandas.core.frame.DataFrame'>\n",
      "    year  theme_id\n",
      "0   1950         2\n",
      "1   1953         1\n",
      "2   1954         2\n",
      "3   1955         4\n",
      "4   1956         3\n",
      "5   1957         4\n",
      "6   1958         3\n",
      "7   1959         3\n",
      "8   1960         3\n",
      "9   1961         6\n",
      "10  1962         4\n",
      "11  1963         7\n",
      "12  1964         7\n",
      "13  1965         6\n",
      "14  1966         9\n",
      "15  1967        11\n",
      "16  1968        11\n",
      "17  1969        10\n",
      "18  1970        15\n",
      "19  1971        12\n",
      "<class 'pandas.core.frame.DataFrame'>\n"
     ]
    },
    {
     "data": {
      "text/plain": [
       "<matplotlib.axes._subplots.AxesSubplot at 0x26c270f12b0>"
      ]
     },
     "execution_count": 12,
     "metadata": {},
     "output_type": "execute_result"
    },
    {
     "data": {
      "image/png": "[encoded data removed]",
      "text/plain": [
       "<Figure size 432x288 with 1 Axes>"
      ]
     },
     "metadata": {},
     "output_type": "display_data"
    }
   ],
   "source": [
    "# themes_by_year: Number of themes shipped by year\n",
    "# -- YOUR CODE HERE --\n",
    "%matplotlib inline\n",
    "\n",
    "print(sets.head(20))\n",
    "themes_by_year = sets[['year', 'theme_id']].groupby('year', as_index=False).mean()\n",
    "print(themes_by_year.head(20))\n",
    "print(type(themes_by_year))\n",
    "\n",
    "themes_by_year1 = sets[['year', 'theme_id']].groupby('year', as_index=False).agg({'theme_id': pd.Series.nunique})\n",
    "print(themes_by_year1.head(20))\n",
    "print(type(themes_by_year1))\n",
    "themes_by_year1.plot(x='year', y='theme_id', title='Number of Themes per Year')"
   ]
  },
  {
   "cell_type": "markdown",
   "metadata": {
    "dc": {
     "key": "a293e5076e"
    },
    "deletable": false,
    "editable": false,
    "run_control": {
     "frozen": true
    },
    "tags": [
     "context"
    ]
   },
   "source": [
    "## 7. Wrapping It All Up!\n",
    "<p>Lego blocks offer an unlimited amount of fun across ages. We explored some interesting trends around colors, parts, and themes. </p>"
   ]
  },
  {
   "cell_type": "code",
   "execution_count": 7,
   "metadata": {
    "dc": {
     "key": "a293e5076e"
    },
    "tags": [
     "sample_code"
    ]
   },
   "outputs": [],
   "source": [
    "# Nothing to do here"
   ]
  }
 ],
 "metadata": {
  "kernelspec": {
   "display_name": "Python 3",
   "language": "python",
   "name": "python3"
  },
  "language_info": {
   "codemirror_mode": {
    "name": "ipython",
    "version": 3
   },
   "file_extension": ".py",
   "mimetype": "text/x-python",
   "name": "python",
   "nbconvert_exporter": "python",
   "pygments_lexer": "ipython3",
   "version": "3.6.5"
  }
 },
 "nbformat": 4,
 "nbformat_minor": 2
}
