{
 "cells": [
  {
   "cell_type": "markdown",
   "metadata": {},
   "source": [
    "# Data Science Nigeria Staff Promotion Compitition\n",
    "### Predicting staff that are likely to be promoted based on defined personal and performance parameters"
   ]
  },
  {
   "cell_type": "code",
   "execution_count": 56,
   "metadata": {},
   "outputs": [
    {
     "name": "stdout",
     "output_type": "stream",
     "text": [
      "C:/Users/Arthur/data-projects/DataScienceNigeria_ML_Course_Practice/ds_nigeria_ml_course_notebook.ipynb\n",
      "C:/Users/Arthur/data-projects/DataScienceNigeria_ML_Course_Practice/.ipynb_checkpoints\\ds_nigeria_ml_course_notebook-checkpoint.ipynb\n",
      "C:/Users/Arthur/data-projects/DataScienceNigeria_ML_Course_Practice/datasets\\sample_submission2.csv\n",
      "C:/Users/Arthur/data-projects/DataScienceNigeria_ML_Course_Practice/datasets\\test.csv\n",
      "C:/Users/Arthur/data-projects/DataScienceNigeria_ML_Course_Practice/datasets\\train.csv\n"
     ]
    }
   ],
   "source": [
    "import os\n",
    "for dirname, _, filenames in os.walk('C:/Users/Arthur/data-projects/DataScienceNigeria_ML_Course_Practice/'):\n",
    "#for dirname, _, filenames in os.walk('C:\\\\Users\\\\Arthur\\\\data-projects\\\\DataScienceNigeria_ML_Course_Practice'):   \n",
    "    for filename in filenames:\n",
    "        print(os.path.join(dirname, filename))"
   ]
  },
  {
   "cell_type": "code",
   "execution_count": 57,
   "metadata": {},
   "outputs": [],
   "source": [
    "# Graphing imports\n",
    "%matplotlib inline\n",
    "import matplotlib\n",
    "import seaborn as sns\n",
    "sns.set()\n",
    "matplotlib.rcParams['figure.dpi'] = 144"
   ]
  },
  {
   "cell_type": "code",
   "execution_count": 112,
   "metadata": {},
   "outputs": [],
   "source": [
    "import numpy as np\n",
    "import pandas as pd\n",
    "import matplotlib.pyplot as plt\n",
    "\n",
    "from sklearn.metrics import auc, accuracy_score, confusion_matrix, mean_squared_error, f1_score\n",
    "from sklearn.preprocessing import StandardScaler, OneHotEncoder\n",
    "from sklearn.model_selection import GridSearchCV, train_test_split, RandomizedSearchCV, KFold\n",
    "from sklearn.linear_model import Ridge, RidgeCV, LogisticRegressionCV, LogisticRegression\n",
    "#from sklearn.svm import LinearSVR\n",
    "from sklearn.pipeline import Pipeline, FeatureUnion\n",
    "from sklearn.impute import SimpleImputer\n",
    "from sklearn.ensemble import RandomForestClassifier, GradientBoostingClassifier\n",
    "from sklearn.compose import ColumnTransformer"
   ]
  },
  {
   "cell_type": "code",
   "execution_count": 59,
   "metadata": {},
   "outputs": [],
   "source": [
    "from scipy.stats import uniform, randint\n",
    "import xgboost as xgb"
   ]
  },
  {
   "cell_type": "markdown",
   "metadata": {},
   "source": [
    "# EDA"
   ]
  },
  {
   "cell_type": "code",
   "execution_count": 117,
   "metadata": {},
   "outputs": [
    {
     "data": {
      "text/html": [
       "<div>\n",
       "<style scoped>\n",
       "    .dataframe tbody tr th:only-of-type {\n",
       "        vertical-align: middle;\n",
       "    }\n",
       "\n",
       "    .dataframe tbody tr th {\n",
       "        vertical-align: top;\n",
       "    }\n",
       "\n",
       "    .dataframe thead th {\n",
       "        text-align: right;\n",
       "    }\n",
       "</style>\n",
       "<table border=\"1\" class=\"dataframe\">\n",
       "  <thead>\n",
       "    <tr style=\"text-align: right;\">\n",
       "      <th></th>\n",
       "      <th>EmployeeNo</th>\n",
       "      <th>Division</th>\n",
       "      <th>Qualification</th>\n",
       "      <th>Gender</th>\n",
       "      <th>Channel_of_Recruitment</th>\n",
       "      <th>Trainings_Attended</th>\n",
       "      <th>Year_of_birth</th>\n",
       "      <th>Last_performance_score</th>\n",
       "      <th>Year_of_recruitment</th>\n",
       "      <th>Targets_met</th>\n",
       "      <th>Previous_Award</th>\n",
       "      <th>Training_score_average</th>\n",
       "      <th>State_Of_Origin</th>\n",
       "      <th>Foreign_schooled</th>\n",
       "      <th>Marital_Status</th>\n",
       "      <th>Past_Disciplinary_Action</th>\n",
       "      <th>Previous_IntraDepartmental_Movement</th>\n",
       "      <th>No_of_previous_employers</th>\n",
       "      <th>Promoted_or_Not</th>\n",
       "    </tr>\n",
       "  </thead>\n",
       "  <tbody>\n",
       "    <tr>\n",
       "      <td>0</td>\n",
       "      <td>YAK/S/00001</td>\n",
       "      <td>Commercial Sales and Marketing</td>\n",
       "      <td>MSc, MBA and PhD</td>\n",
       "      <td>Female</td>\n",
       "      <td>Direct Internal process</td>\n",
       "      <td>2</td>\n",
       "      <td>1986</td>\n",
       "      <td>12.5</td>\n",
       "      <td>2011</td>\n",
       "      <td>1</td>\n",
       "      <td>0</td>\n",
       "      <td>41</td>\n",
       "      <td>ANAMBRA</td>\n",
       "      <td>No</td>\n",
       "      <td>Married</td>\n",
       "      <td>No</td>\n",
       "      <td>No</td>\n",
       "      <td>0</td>\n",
       "      <td>0</td>\n",
       "    </tr>\n",
       "    <tr>\n",
       "      <td>1</td>\n",
       "      <td>YAK/S/00002</td>\n",
       "      <td>Customer Support and Field Operations</td>\n",
       "      <td>First Degree or HND</td>\n",
       "      <td>Male</td>\n",
       "      <td>Agency and others</td>\n",
       "      <td>2</td>\n",
       "      <td>1991</td>\n",
       "      <td>12.5</td>\n",
       "      <td>2015</td>\n",
       "      <td>0</td>\n",
       "      <td>0</td>\n",
       "      <td>52</td>\n",
       "      <td>ANAMBRA</td>\n",
       "      <td>Yes</td>\n",
       "      <td>Married</td>\n",
       "      <td>No</td>\n",
       "      <td>No</td>\n",
       "      <td>0</td>\n",
       "      <td>0</td>\n",
       "    </tr>\n",
       "    <tr>\n",
       "      <td>2</td>\n",
       "      <td>YAK/S/00003</td>\n",
       "      <td>Commercial Sales and Marketing</td>\n",
       "      <td>First Degree or HND</td>\n",
       "      <td>Male</td>\n",
       "      <td>Direct Internal process</td>\n",
       "      <td>2</td>\n",
       "      <td>1987</td>\n",
       "      <td>7.5</td>\n",
       "      <td>2012</td>\n",
       "      <td>0</td>\n",
       "      <td>0</td>\n",
       "      <td>42</td>\n",
       "      <td>KATSINA</td>\n",
       "      <td>Yes</td>\n",
       "      <td>Married</td>\n",
       "      <td>No</td>\n",
       "      <td>No</td>\n",
       "      <td>0</td>\n",
       "      <td>0</td>\n",
       "    </tr>\n",
       "    <tr>\n",
       "      <td>3</td>\n",
       "      <td>YAK/S/00004</td>\n",
       "      <td>Commercial Sales and Marketing</td>\n",
       "      <td>First Degree or HND</td>\n",
       "      <td>Male</td>\n",
       "      <td>Agency and others</td>\n",
       "      <td>3</td>\n",
       "      <td>1982</td>\n",
       "      <td>2.5</td>\n",
       "      <td>2009</td>\n",
       "      <td>0</td>\n",
       "      <td>0</td>\n",
       "      <td>42</td>\n",
       "      <td>NIGER</td>\n",
       "      <td>Yes</td>\n",
       "      <td>Single</td>\n",
       "      <td>No</td>\n",
       "      <td>No</td>\n",
       "      <td>1</td>\n",
       "      <td>0</td>\n",
       "    </tr>\n",
       "    <tr>\n",
       "      <td>4</td>\n",
       "      <td>YAK/S/00006</td>\n",
       "      <td>Information and Strategy</td>\n",
       "      <td>First Degree or HND</td>\n",
       "      <td>Male</td>\n",
       "      <td>Direct Internal process</td>\n",
       "      <td>3</td>\n",
       "      <td>1990</td>\n",
       "      <td>7.5</td>\n",
       "      <td>2012</td>\n",
       "      <td>0</td>\n",
       "      <td>0</td>\n",
       "      <td>77</td>\n",
       "      <td>AKWA IBOM</td>\n",
       "      <td>Yes</td>\n",
       "      <td>Married</td>\n",
       "      <td>No</td>\n",
       "      <td>No</td>\n",
       "      <td>1</td>\n",
       "      <td>0</td>\n",
       "    </tr>\n",
       "  </tbody>\n",
       "</table>\n",
       "</div>"
      ],
      "text/plain": [
       "    EmployeeNo                               Division        Qualification  \\\n",
       "0  YAK/S/00001         Commercial Sales and Marketing     MSc, MBA and PhD   \n",
       "1  YAK/S/00002  Customer Support and Field Operations  First Degree or HND   \n",
       "2  YAK/S/00003         Commercial Sales and Marketing  First Degree or HND   \n",
       "3  YAK/S/00004         Commercial Sales and Marketing  First Degree or HND   \n",
       "4  YAK/S/00006               Information and Strategy  First Degree or HND   \n",
       "\n",
       "   Gender   Channel_of_Recruitment  Trainings_Attended  Year_of_birth  \\\n",
       "0  Female  Direct Internal process                   2           1986   \n",
       "1    Male        Agency and others                   2           1991   \n",
       "2    Male  Direct Internal process                   2           1987   \n",
       "3    Male        Agency and others                   3           1982   \n",
       "4    Male  Direct Internal process                   3           1990   \n",
       "\n",
       "   Last_performance_score  Year_of_recruitment  Targets_met  Previous_Award  \\\n",
       "0                    12.5                 2011            1               0   \n",
       "1                    12.5                 2015            0               0   \n",
       "2                     7.5                 2012            0               0   \n",
       "3                     2.5                 2009            0               0   \n",
       "4                     7.5                 2012            0               0   \n",
       "\n",
       "   Training_score_average State_Of_Origin Foreign_schooled Marital_Status  \\\n",
       "0                      41         ANAMBRA               No        Married   \n",
       "1                      52         ANAMBRA              Yes        Married   \n",
       "2                      42         KATSINA              Yes        Married   \n",
       "3                      42           NIGER              Yes         Single   \n",
       "4                      77       AKWA IBOM              Yes        Married   \n",
       "\n",
       "  Past_Disciplinary_Action Previous_IntraDepartmental_Movement  \\\n",
       "0                       No                                  No   \n",
       "1                       No                                  No   \n",
       "2                       No                                  No   \n",
       "3                       No                                  No   \n",
       "4                       No                                  No   \n",
       "\n",
       "  No_of_previous_employers  Promoted_or_Not  \n",
       "0                        0                0  \n",
       "1                        0                0  \n",
       "2                        0                0  \n",
       "3                        1                0  \n",
       "4                        1                0  "
      ]
     },
     "execution_count": 117,
     "metadata": {},
     "output_type": "execute_result"
    }
   ],
   "source": [
    "data = pd.read_csv('C:/Users/Arthur/data-projects/DataScienceNigeria_ML_Course_Practice/datasets/train.csv')\n",
    "data.head()"
   ]
  },
  {
   "cell_type": "code",
   "execution_count": 32,
   "metadata": {},
   "outputs": [
    {
     "name": "stdout",
     "output_type": "stream",
     "text": [
      "<class 'pandas.core.frame.DataFrame'>\n",
      "RangeIndex: 38312 entries, 0 to 38311\n",
      "Data columns (total 19 columns):\n",
      "EmployeeNo                             38312 non-null object\n",
      "Division                               38312 non-null object\n",
      "Qualification                          36633 non-null object\n",
      "Gender                                 38312 non-null object\n",
      "Channel_of_Recruitment                 38312 non-null object\n",
      "Trainings_Attended                     38312 non-null int64\n",
      "Year_of_birth                          38312 non-null int64\n",
      "Last_performance_score                 38312 non-null float64\n",
      "Year_of_recruitment                    38312 non-null int64\n",
      "Targets_met                            38312 non-null int64\n",
      "Previous_Award                         38312 non-null int64\n",
      "Training_score_average                 38312 non-null int64\n",
      "State_Of_Origin                        38312 non-null object\n",
      "Foreign_schooled                       38312 non-null object\n",
      "Marital_Status                         38312 non-null object\n",
      "Past_Disciplinary_Action               38312 non-null object\n",
      "Previous_IntraDepartmental_Movement    38312 non-null object\n",
      "No_of_previous_employers               38312 non-null object\n",
      "Promoted_or_Not                        38312 non-null int64\n",
      "dtypes: float64(1), int64(7), object(11)\n",
      "memory usage: 5.6+ MB\n"
     ]
    }
   ],
   "source": [
    "data.info()"
   ]
  },
  {
   "cell_type": "code",
   "execution_count": 33,
   "metadata": {},
   "outputs": [
    {
     "name": "stdout",
     "output_type": "stream",
     "text": [
      "Index(['EmployeeNo', 'Division', 'Qualification', 'Gender',\n",
      "       'Channel_of_Recruitment', 'Trainings_Attended', 'Year_of_birth',\n",
      "       'Last_performance_score', 'Year_of_recruitment', 'Targets_met',\n",
      "       'Previous_Award', 'Training_score_average', 'State_Of_Origin',\n",
      "       'Foreign_schooled', 'Marital_Status', 'Past_Disciplinary_Action',\n",
      "       'Previous_IntraDepartmental_Movement', 'No_of_previous_employers',\n",
      "       'Promoted_or_Not'],\n",
      "      dtype='object')\n",
      "['0' '1' '4' '3' '2' 'More than 5' '5']\n",
      "['No' 'Yes']\n",
      "['No' 'Yes']\n",
      "['Married' 'Single' 'Not_Sure']\n",
      "['No' 'Yes']\n",
      "['ANAMBRA' 'KATSINA' 'NIGER' 'AKWA IBOM' 'ENUGU' 'OYO' 'LAGOS' 'ONDO'\n",
      " 'KWARA' 'EDO' 'BAUCHI' 'TARABA' 'RIVERS' 'KADUNA' 'PLATEAU' 'EKITI'\n",
      " 'BORNO' 'IMO' 'CROSS RIVER' 'KANO' 'FCT' 'OGUN' 'GOMBE' 'DELTA' 'BENUE'\n",
      " 'ZAMFARA' 'OSUN' 'ABIA' 'KEBBI' 'ADAMAWA' 'NASSARAWA' 'SOKOTO' 'KOGI'\n",
      " 'JIGAWA' 'BAYELSA' 'YOBE' 'EBONYI']\n",
      "[2011 2015 2012 2009 2014 2013 2016 2003 2010 2008 2018 2017 2007 2002\n",
      " 2005 2006 2000 2004 2001 1999 1994 1996 1988 1990 1998 1995 1991 1985\n",
      " 1989 1992 1997 1993 1986 1987 1982]\n",
      "['Direct Internal process' 'Agency and others'\n",
      " 'Referral and Special candidates']\n",
      "[1986 1991 1987 1982 1990 1988 1993 1989 1972 1984 1980 1994 1992 1995\n",
      " 1997 1981 1979 1998 1971 1996 1983 1974 2001 1975 1977 1957 1985 1978\n",
      " 1999 1976 1964 1973 1963 1968 1966 1970 1969 1965 1961 1962 1967 1950\n",
      " 2000 1958 1952 1955 1956 1959 1960]\n",
      "['Female' 'Male']\n",
      "['MSc, MBA and PhD' 'First Degree or HND' nan 'Non-University Education']\n",
      "['Commercial Sales and Marketing' 'Customer Support and Field Operations'\n",
      " 'Information and Strategy' 'Information Technology and Solution Support'\n",
      " 'Sourcing and Purchasing' 'Business Finance Operations'\n",
      " 'People/HR Management' 'Research and Innovation'\n",
      " 'Regulatory and Legal services']\n"
     ]
    }
   ],
   "source": [
    "print(data.columns)\n",
    "print(data.No_of_previous_employers.unique())\n",
    "print(data.Previous_IntraDepartmental_Movement.unique())\n",
    "print(data.Past_Disciplinary_Action.unique())\n",
    "print(data.Marital_Status.unique())\n",
    "print(data.Foreign_schooled.unique())\n",
    "print(data.State_Of_Origin.unique())\n",
    "print(data.Year_of_recruitment.unique())\n",
    "print(data.Channel_of_Recruitment.unique())\n",
    "print(data.Year_of_birth.unique())\n",
    "print(data.Gender.unique())\n",
    "print(data.Qualification.unique())\n",
    "print(data.Division.unique())"
   ]
  },
  {
   "cell_type": "code",
   "execution_count": 34,
   "metadata": {},
   "outputs": [
    {
     "name": "stdout",
     "output_type": "stream",
     "text": [
      "True\n",
      "(38312, 19)\n"
     ]
    }
   ],
   "source": [
    "print(data.isnull().values.any())\n",
    "print(data.shape)"
   ]
  },
  {
   "cell_type": "code",
   "execution_count": 95,
   "metadata": {},
   "outputs": [
    {
     "data": {
      "text/plain": [
       "EmployeeNo                                0\n",
       "Division                                  0\n",
       "Qualification                          1679\n",
       "Gender                                    0\n",
       "Channel_of_Recruitment                    0\n",
       "Trainings_Attended                        0\n",
       "Year_of_birth                             0\n",
       "Last_performance_score                    0\n",
       "Year_of_recruitment                       0\n",
       "Targets_met                               0\n",
       "Previous_Award                            0\n",
       "Training_score_average                    0\n",
       "State_Of_Origin                           0\n",
       "Foreign_schooled                          0\n",
       "Marital_Status                            0\n",
       "Past_Disciplinary_Action                  0\n",
       "Previous_IntraDepartmental_Movement       0\n",
       "No_of_previous_employers                  0\n",
       "Promoted_or_Not                           0\n",
       "dtype: int64"
      ]
     },
     "execution_count": 95,
     "metadata": {},
     "output_type": "execute_result"
    }
   ],
   "source": [
    "data.isnull().sum()"
   ]
  },
  {
   "cell_type": "code",
   "execution_count": 118,
   "metadata": {},
   "outputs": [
    {
     "name": "stdout",
     "output_type": "stream",
     "text": [
      "(38312, 19) (38312,) (38312,)\n",
      "(38312, 17) (38312,) (38312,)\n"
     ]
    }
   ],
   "source": [
    "X = data\n",
    "y = data.Promoted_or_Not\n",
    "z = data.EmployeeNo\n",
    "print(X.shape, y.shape, z.shape)\n",
    "X = X.drop(labels=['Promoted_or_Not', 'EmployeeNo'], axis=1) # dropped EmployeeNo since I cant categorize it\n",
    "print(X.shape, y.shape, z.shape)"
   ]
  },
  {
   "cell_type": "code",
   "execution_count": 36,
   "metadata": {},
   "outputs": [],
   "source": [
    "#import winsound\n",
    "#winsound.Beep(4300, 1000)"
   ]
  },
  {
   "cell_type": "code",
   "execution_count": 37,
   "metadata": {},
   "outputs": [
    {
     "data": {
      "text/html": [
       "<div>\n",
       "<style scoped>\n",
       "    .dataframe tbody tr th:only-of-type {\n",
       "        vertical-align: middle;\n",
       "    }\n",
       "\n",
       "    .dataframe tbody tr th {\n",
       "        vertical-align: top;\n",
       "    }\n",
       "\n",
       "    .dataframe thead th {\n",
       "        text-align: right;\n",
       "    }\n",
       "</style>\n",
       "<table border=\"1\" class=\"dataframe\">\n",
       "  <thead>\n",
       "    <tr style=\"text-align: right;\">\n",
       "      <th></th>\n",
       "      <th>Division</th>\n",
       "      <th>Qualification</th>\n",
       "      <th>Gender</th>\n",
       "      <th>Channel_of_Recruitment</th>\n",
       "      <th>Trainings_Attended</th>\n",
       "      <th>Year_of_birth</th>\n",
       "      <th>Last_performance_score</th>\n",
       "      <th>Year_of_recruitment</th>\n",
       "      <th>Targets_met</th>\n",
       "      <th>Previous_Award</th>\n",
       "      <th>Training_score_average</th>\n",
       "      <th>State_Of_Origin</th>\n",
       "      <th>Foreign_schooled</th>\n",
       "      <th>Marital_Status</th>\n",
       "      <th>Past_Disciplinary_Action</th>\n",
       "      <th>Previous_IntraDepartmental_Movement</th>\n",
       "      <th>No_of_previous_employers</th>\n",
       "    </tr>\n",
       "  </thead>\n",
       "  <tbody>\n",
       "    <tr>\n",
       "      <td>0</td>\n",
       "      <td>Commercial Sales and Marketing</td>\n",
       "      <td>MSc, MBA and PhD</td>\n",
       "      <td>Female</td>\n",
       "      <td>Direct Internal process</td>\n",
       "      <td>2</td>\n",
       "      <td>1986</td>\n",
       "      <td>12.5</td>\n",
       "      <td>2011</td>\n",
       "      <td>1</td>\n",
       "      <td>0</td>\n",
       "      <td>41</td>\n",
       "      <td>ANAMBRA</td>\n",
       "      <td>No</td>\n",
       "      <td>Married</td>\n",
       "      <td>No</td>\n",
       "      <td>No</td>\n",
       "      <td>0</td>\n",
       "    </tr>\n",
       "    <tr>\n",
       "      <td>1</td>\n",
       "      <td>Customer Support and Field Operations</td>\n",
       "      <td>First Degree or HND</td>\n",
       "      <td>Male</td>\n",
       "      <td>Agency and others</td>\n",
       "      <td>2</td>\n",
       "      <td>1991</td>\n",
       "      <td>12.5</td>\n",
       "      <td>2015</td>\n",
       "      <td>0</td>\n",
       "      <td>0</td>\n",
       "      <td>52</td>\n",
       "      <td>ANAMBRA</td>\n",
       "      <td>Yes</td>\n",
       "      <td>Married</td>\n",
       "      <td>No</td>\n",
       "      <td>No</td>\n",
       "      <td>0</td>\n",
       "    </tr>\n",
       "    <tr>\n",
       "      <td>2</td>\n",
       "      <td>Commercial Sales and Marketing</td>\n",
       "      <td>First Degree or HND</td>\n",
       "      <td>Male</td>\n",
       "      <td>Direct Internal process</td>\n",
       "      <td>2</td>\n",
       "      <td>1987</td>\n",
       "      <td>7.5</td>\n",
       "      <td>2012</td>\n",
       "      <td>0</td>\n",
       "      <td>0</td>\n",
       "      <td>42</td>\n",
       "      <td>KATSINA</td>\n",
       "      <td>Yes</td>\n",
       "      <td>Married</td>\n",
       "      <td>No</td>\n",
       "      <td>No</td>\n",
       "      <td>0</td>\n",
       "    </tr>\n",
       "    <tr>\n",
       "      <td>3</td>\n",
       "      <td>Commercial Sales and Marketing</td>\n",
       "      <td>First Degree or HND</td>\n",
       "      <td>Male</td>\n",
       "      <td>Agency and others</td>\n",
       "      <td>3</td>\n",
       "      <td>1982</td>\n",
       "      <td>2.5</td>\n",
       "      <td>2009</td>\n",
       "      <td>0</td>\n",
       "      <td>0</td>\n",
       "      <td>42</td>\n",
       "      <td>NIGER</td>\n",
       "      <td>Yes</td>\n",
       "      <td>Single</td>\n",
       "      <td>No</td>\n",
       "      <td>No</td>\n",
       "      <td>1</td>\n",
       "    </tr>\n",
       "    <tr>\n",
       "      <td>4</td>\n",
       "      <td>Information and Strategy</td>\n",
       "      <td>First Degree or HND</td>\n",
       "      <td>Male</td>\n",
       "      <td>Direct Internal process</td>\n",
       "      <td>3</td>\n",
       "      <td>1990</td>\n",
       "      <td>7.5</td>\n",
       "      <td>2012</td>\n",
       "      <td>0</td>\n",
       "      <td>0</td>\n",
       "      <td>77</td>\n",
       "      <td>AKWA IBOM</td>\n",
       "      <td>Yes</td>\n",
       "      <td>Married</td>\n",
       "      <td>No</td>\n",
       "      <td>No</td>\n",
       "      <td>1</td>\n",
       "    </tr>\n",
       "  </tbody>\n",
       "</table>\n",
       "</div>"
      ],
      "text/plain": [
       "                                Division        Qualification  Gender  \\\n",
       "0         Commercial Sales and Marketing     MSc, MBA and PhD  Female   \n",
       "1  Customer Support and Field Operations  First Degree or HND    Male   \n",
       "2         Commercial Sales and Marketing  First Degree or HND    Male   \n",
       "3         Commercial Sales and Marketing  First Degree or HND    Male   \n",
       "4               Information and Strategy  First Degree or HND    Male   \n",
       "\n",
       "    Channel_of_Recruitment  Trainings_Attended  Year_of_birth  \\\n",
       "0  Direct Internal process                   2           1986   \n",
       "1        Agency and others                   2           1991   \n",
       "2  Direct Internal process                   2           1987   \n",
       "3        Agency and others                   3           1982   \n",
       "4  Direct Internal process                   3           1990   \n",
       "\n",
       "   Last_performance_score  Year_of_recruitment  Targets_met  Previous_Award  \\\n",
       "0                    12.5                 2011            1               0   \n",
       "1                    12.5                 2015            0               0   \n",
       "2                     7.5                 2012            0               0   \n",
       "3                     2.5                 2009            0               0   \n",
       "4                     7.5                 2012            0               0   \n",
       "\n",
       "   Training_score_average State_Of_Origin Foreign_schooled Marital_Status  \\\n",
       "0                      41         ANAMBRA               No        Married   \n",
       "1                      52         ANAMBRA              Yes        Married   \n",
       "2                      42         KATSINA              Yes        Married   \n",
       "3                      42           NIGER              Yes         Single   \n",
       "4                      77       AKWA IBOM              Yes        Married   \n",
       "\n",
       "  Past_Disciplinary_Action Previous_IntraDepartmental_Movement  \\\n",
       "0                       No                                  No   \n",
       "1                       No                                  No   \n",
       "2                       No                                  No   \n",
       "3                       No                                  No   \n",
       "4                       No                                  No   \n",
       "\n",
       "  No_of_previous_employers  \n",
       "0                        0  \n",
       "1                        0  \n",
       "2                        0  \n",
       "3                        1  \n",
       "4                        1  "
      ]
     },
     "execution_count": 37,
     "metadata": {},
     "output_type": "execute_result"
    }
   ],
   "source": [
    "X.head()    "
   ]
  },
  {
   "cell_type": "code",
   "execution_count": 62,
   "metadata": {},
   "outputs": [
    {
     "name": "stdout",
     "output_type": "stream",
     "text": [
      "<class 'pandas.core.frame.DataFrame'>\n",
      "RangeIndex: 38312 entries, 0 to 38311\n",
      "Data columns (total 17 columns):\n",
      "Division                               38312 non-null object\n",
      "Qualification                          36633 non-null object\n",
      "Gender                                 38312 non-null object\n",
      "Channel_of_Recruitment                 38312 non-null object\n",
      "Trainings_Attended                     38312 non-null int64\n",
      "Year_of_birth                          38312 non-null int64\n",
      "Last_performance_score                 38312 non-null float64\n",
      "Year_of_recruitment                    38312 non-null int64\n",
      "Targets_met                            38312 non-null int64\n",
      "Previous_Award                         38312 non-null int64\n",
      "Training_score_average                 38312 non-null int64\n",
      "State_Of_Origin                        38312 non-null object\n",
      "Foreign_schooled                       38312 non-null object\n",
      "Marital_Status                         38312 non-null object\n",
      "Past_Disciplinary_Action               38312 non-null object\n",
      "Previous_IntraDepartmental_Movement    38312 non-null object\n",
      "No_of_previous_employers               38312 non-null object\n",
      "dtypes: float64(1), int64(6), object(10)\n",
      "memory usage: 5.0+ MB\n"
     ]
    }
   ],
   "source": [
    "X.info()"
   ]
  },
  {
   "cell_type": "code",
   "execution_count": 63,
   "metadata": {},
   "outputs": [
    {
     "name": "stdout",
     "output_type": "stream",
     "text": [
      "True\n",
      "False\n",
      "False\n"
     ]
    }
   ],
   "source": [
    "print(X.isnull().values.any())\n",
    "print(y.isnull().values.any())\n",
    "print(z.isnull().values.any())"
   ]
  },
  {
   "cell_type": "code",
   "execution_count": 78,
   "metadata": {},
   "outputs": [],
   "source": [
    "imp = SimpleImputer(strategy='most_frequent')\n",
    "#X_imputed = imp.fit_transform(X)\n",
    "#X_imputed"
   ]
  },
  {
   "cell_type": "code",
   "execution_count": 75,
   "metadata": {},
   "outputs": [],
   "source": [
    "#X_imputed = pd.DataFrame.from_records(X_imputed)\n",
    "#X_imputed.columns = X.columns\n",
    "#print(X_imputed.columns is X.columns)"
   ]
  },
  {
   "cell_type": "code",
   "execution_count": 76,
   "metadata": {},
   "outputs": [
    {
     "name": "stdout",
     "output_type": "stream",
     "text": [
      "True\n",
      "False\n",
      "False\n",
      "False\n"
     ]
    }
   ],
   "source": [
    "print(X.isnull().values.any())\n",
    "print(X_imputed.isnull().values.any())\n",
    "print(y.isnull().values.any())\n",
    "print(z.isnull().values.any())"
   ]
  },
  {
   "cell_type": "code",
   "execution_count": 119,
   "metadata": {
    "scrolled": false
   },
   "outputs": [
    {
     "name": "stdout",
     "output_type": "stream",
     "text": [
      "['Trainings_Attended', 'Year_of_birth', 'Last_performance_score', 'Year_of_recruitment', 'Targets_met', 'Previous_Award', 'Training_score_average']\n",
      "['Division', 'Qualification', 'Gender', 'Channel_of_Recruitment', 'State_Of_Origin', 'Foreign_schooled', 'Marital_Status', 'Past_Disciplinary_Action', 'Previous_IntraDepartmental_Movement', 'No_of_previous_employers']\n",
      "17\n"
     ]
    }
   ],
   "source": [
    "#X_train, X_test, y_train, y_test = train_test_split(X, y, test_size=0.2, random_state=0)\n",
    "X_train, X_test, y_train, y_test = train_test_split(X, y, test_size=0.2, random_state=0)\n",
    "numerical_cols = [cname for cname in X.columns if X[cname].dtype in ['int64', 'float64']]\n",
    "print(numerical_cols)\n",
    "categorical_cols = [cname for cname in X.columns if X[cname].dtype == 'object']\n",
    "print(categorical_cols)\n",
    "print(len(numerical_cols) + len(categorical_cols))"
   ]
  },
  {
   "cell_type": "code",
   "execution_count": 120,
   "metadata": {},
   "outputs": [],
   "source": [
    "X_train = imp.fit_transform(X_train)\n",
    "X_test = imp.transform(X_test)"
   ]
  },
  {
   "cell_type": "code",
   "execution_count": 121,
   "metadata": {},
   "outputs": [
    {
     "name": "stdout",
     "output_type": "stream",
     "text": [
      "True\n",
      "True\n",
      "False\n",
      "False\n"
     ]
    }
   ],
   "source": [
    "X_train = pd.DataFrame.from_records(X_train)\n",
    "X_train.columns = X.columns\n",
    "print(X_train.columns is X.columns)\n",
    "\n",
    "X_test = pd.DataFrame.from_records(X_test)\n",
    "X_test.columns = X.columns\n",
    "print(X_test.columns is X.columns)\n",
    "\n",
    "print(X_train.isnull().values.any())\n",
    "print(X_test.isnull().values.any())"
   ]
  },
  {
   "cell_type": "code",
   "execution_count": 122,
   "metadata": {},
   "outputs": [
    {
     "data": {
      "text/html": [
       "<div>\n",
       "<style scoped>\n",
       "    .dataframe tbody tr th:only-of-type {\n",
       "        vertical-align: middle;\n",
       "    }\n",
       "\n",
       "    .dataframe tbody tr th {\n",
       "        vertical-align: top;\n",
       "    }\n",
       "\n",
       "    .dataframe thead th {\n",
       "        text-align: right;\n",
       "    }\n",
       "</style>\n",
       "<table border=\"1\" class=\"dataframe\">\n",
       "  <thead>\n",
       "    <tr style=\"text-align: right;\">\n",
       "      <th></th>\n",
       "      <th>Division</th>\n",
       "      <th>Qualification</th>\n",
       "      <th>Gender</th>\n",
       "      <th>Channel_of_Recruitment</th>\n",
       "      <th>Trainings_Attended</th>\n",
       "      <th>Year_of_birth</th>\n",
       "      <th>Last_performance_score</th>\n",
       "      <th>Year_of_recruitment</th>\n",
       "      <th>Targets_met</th>\n",
       "      <th>Previous_Award</th>\n",
       "      <th>Training_score_average</th>\n",
       "      <th>State_Of_Origin</th>\n",
       "      <th>Foreign_schooled</th>\n",
       "      <th>Marital_Status</th>\n",
       "      <th>Past_Disciplinary_Action</th>\n",
       "      <th>Previous_IntraDepartmental_Movement</th>\n",
       "      <th>No_of_previous_employers</th>\n",
       "    </tr>\n",
       "  </thead>\n",
       "  <tbody>\n",
       "    <tr>\n",
       "      <td>0</td>\n",
       "      <td>Sourcing and Purchasing</td>\n",
       "      <td>MSc, MBA and PhD</td>\n",
       "      <td>Male</td>\n",
       "      <td>Agency and others</td>\n",
       "      <td>2</td>\n",
       "      <td>1986</td>\n",
       "      <td>12.5</td>\n",
       "      <td>2010</td>\n",
       "      <td>1</td>\n",
       "      <td>0</td>\n",
       "      <td>63</td>\n",
       "      <td>LAGOS</td>\n",
       "      <td>Yes</td>\n",
       "      <td>Married</td>\n",
       "      <td>No</td>\n",
       "      <td>No</td>\n",
       "      <td>0</td>\n",
       "    </tr>\n",
       "    <tr>\n",
       "      <td>1</td>\n",
       "      <td>Commercial Sales and Marketing</td>\n",
       "      <td>First Degree or HND</td>\n",
       "      <td>Male</td>\n",
       "      <td>Agency and others</td>\n",
       "      <td>2</td>\n",
       "      <td>1968</td>\n",
       "      <td>12.5</td>\n",
       "      <td>2010</td>\n",
       "      <td>1</td>\n",
       "      <td>0</td>\n",
       "      <td>44</td>\n",
       "      <td>OYO</td>\n",
       "      <td>Yes</td>\n",
       "      <td>Single</td>\n",
       "      <td>No</td>\n",
       "      <td>No</td>\n",
       "      <td>0</td>\n",
       "    </tr>\n",
       "    <tr>\n",
       "      <td>2</td>\n",
       "      <td>Customer Support and Field Operations</td>\n",
       "      <td>MSc, MBA and PhD</td>\n",
       "      <td>Male</td>\n",
       "      <td>Agency and others</td>\n",
       "      <td>2</td>\n",
       "      <td>1983</td>\n",
       "      <td>12.5</td>\n",
       "      <td>2012</td>\n",
       "      <td>1</td>\n",
       "      <td>0</td>\n",
       "      <td>46</td>\n",
       "      <td>RIVERS</td>\n",
       "      <td>Yes</td>\n",
       "      <td>Married</td>\n",
       "      <td>No</td>\n",
       "      <td>No</td>\n",
       "      <td>1</td>\n",
       "    </tr>\n",
       "    <tr>\n",
       "      <td>3</td>\n",
       "      <td>Customer Support and Field Operations</td>\n",
       "      <td>MSc, MBA and PhD</td>\n",
       "      <td>Male</td>\n",
       "      <td>Agency and others</td>\n",
       "      <td>2</td>\n",
       "      <td>1974</td>\n",
       "      <td>12.5</td>\n",
       "      <td>2013</td>\n",
       "      <td>1</td>\n",
       "      <td>0</td>\n",
       "      <td>52</td>\n",
       "      <td>OSUN</td>\n",
       "      <td>Yes</td>\n",
       "      <td>Single</td>\n",
       "      <td>No</td>\n",
       "      <td>No</td>\n",
       "      <td>1</td>\n",
       "    </tr>\n",
       "    <tr>\n",
       "      <td>4</td>\n",
       "      <td>Information Technology and Solution Support</td>\n",
       "      <td>First Degree or HND</td>\n",
       "      <td>Female</td>\n",
       "      <td>Agency and others</td>\n",
       "      <td>2</td>\n",
       "      <td>1975</td>\n",
       "      <td>7.5</td>\n",
       "      <td>2000</td>\n",
       "      <td>0</td>\n",
       "      <td>0</td>\n",
       "      <td>71</td>\n",
       "      <td>LAGOS</td>\n",
       "      <td>Yes</td>\n",
       "      <td>Married</td>\n",
       "      <td>No</td>\n",
       "      <td>No</td>\n",
       "      <td>5</td>\n",
       "    </tr>\n",
       "  </tbody>\n",
       "</table>\n",
       "</div>"
      ],
      "text/plain": [
       "                                      Division        Qualification  Gender  \\\n",
       "0                      Sourcing and Purchasing     MSc, MBA and PhD    Male   \n",
       "1               Commercial Sales and Marketing  First Degree or HND    Male   \n",
       "2        Customer Support and Field Operations     MSc, MBA and PhD    Male   \n",
       "3        Customer Support and Field Operations     MSc, MBA and PhD    Male   \n",
       "4  Information Technology and Solution Support  First Degree or HND  Female   \n",
       "\n",
       "  Channel_of_Recruitment  Trainings_Attended  Year_of_birth  \\\n",
       "0      Agency and others                   2           1986   \n",
       "1      Agency and others                   2           1968   \n",
       "2      Agency and others                   2           1983   \n",
       "3      Agency and others                   2           1974   \n",
       "4      Agency and others                   2           1975   \n",
       "\n",
       "   Last_performance_score  Year_of_recruitment  Targets_met  Previous_Award  \\\n",
       "0                    12.5                 2010            1               0   \n",
       "1                    12.5                 2010            1               0   \n",
       "2                    12.5                 2012            1               0   \n",
       "3                    12.5                 2013            1               0   \n",
       "4                     7.5                 2000            0               0   \n",
       "\n",
       "   Training_score_average State_Of_Origin Foreign_schooled Marital_Status  \\\n",
       "0                      63           LAGOS              Yes        Married   \n",
       "1                      44             OYO              Yes         Single   \n",
       "2                      46          RIVERS              Yes        Married   \n",
       "3                      52            OSUN              Yes         Single   \n",
       "4                      71           LAGOS              Yes        Married   \n",
       "\n",
       "  Past_Disciplinary_Action Previous_IntraDepartmental_Movement  \\\n",
       "0                       No                                  No   \n",
       "1                       No                                  No   \n",
       "2                       No                                  No   \n",
       "3                       No                                  No   \n",
       "4                       No                                  No   \n",
       "\n",
       "  No_of_previous_employers  \n",
       "0                        0  \n",
       "1                        0  \n",
       "2                        1  \n",
       "3                        1  \n",
       "4                        5  "
      ]
     },
     "execution_count": 122,
     "metadata": {},
     "output_type": "execute_result"
    }
   ],
   "source": [
    "X_test.head()"
   ]
  },
  {
   "cell_type": "code",
   "execution_count": 123,
   "metadata": {},
   "outputs": [],
   "source": [
    "#Transform nan values using SimpleImputer -- a\n",
    "#Transform numerical cols using StandardScaler -- b\n",
    "#Transform categorical cols using OneHotEncoder -- c  \n",
    "#[steps b and c can be done using FeatureUnion or ColumnTransformer]\n",
    "\n",
    "#Need to do \n",
    "#Cross validation on the dataset -- d\n",
    "#Hyperparameter tune and search best one -- e\n",
    "#Use early stopping if model doesn't iteratively improve -- f\n",
    "\n",
    "# Set params_grid for hyper-parameter tuning\n",
    "params = {\"colsample_bytree\": uniform(0.7, 0.3),\n",
    "          \"gamma\": uniform(0, 0.5),\n",
    "          \"learning_rate\": uniform(0.03, 0.3), # default 0.1 \n",
    "          \"max_depth\": randint(1, 7), # default 3\n",
    "          \"n_estimators\": randint(50, 150), # default 100\n",
    "          \"subsample\": uniform(0.6, 0.4)\n",
    "         }\n",
    "\n",
    "# Search through the params_grid\n",
    "#search_params_model = RandomizedSearchCV(xgb_model, param_distributions=params, random_state=42, \n",
    "#                            n_iter=200, cv=3, verbose=1, n_jobs=1, return_train_score=True)\n",
    "\n",
    "# Use early stopping if model doesn't improve\n",
    "#xgb_model.fit(X_train, y_train, early_stopping_rounds=5, eval_set=[(X_test, y_test)])\n",
    "\n",
    "#xgb_model.fit() will produce a model from the last iteration, not the best one, \n",
    "#so to get the optimum model consider retraining over xgb_model.best_iteration rounds.\n",
    "\n",
    "l_model = xgb.XGBClassifier()\n",
    "#l_model = GradientBoostingClassifier()\n",
    "scaler = StandardScaler()\n",
    "#imp = SimpleImputer(strategy='most_frequent')\n",
    "ohe = OneHotEncoder(handle_unknown='ignore')\n",
    "col_transformer = ColumnTransformer([('scaler', scaler, numerical_cols), \n",
    "                                     #('imp', imp, ['Qualification']),\n",
    "                                     ('ohe', ohe, categorical_cols)],\n",
    "                                    remainder='passthrough')\n",
    "pipe = Pipeline([('col_transformer', col_transformer),\n",
    "                 ('model', l_model)],\n",
    "                verbose=1)\n"
   ]
  },
  {
   "cell_type": "code",
   "execution_count": 124,
   "metadata": {},
   "outputs": [
    {
     "name": "stdout",
     "output_type": "stream",
     "text": [
      "[Pipeline] ... (step 1 of 2) Processing col_transformer, total=   0.6s\n",
      "[Pipeline] ............. (step 2 of 2) Processing model, total=   8.3s\n"
     ]
    }
   ],
   "source": [
    "pipe.fit(X_train, y_train)\n",
    "y_pred = pipe.predict(X_test)"
   ]
  },
  {
   "cell_type": "code",
   "execution_count": 125,
   "metadata": {},
   "outputs": [
    {
     "name": "stdout",
     "output_type": "stream",
     "text": [
      "0.9433642176693201\n",
      "0.05663578233067989\n",
      "0.5090497737556562\n",
      "[[7004    3]\n",
      " [ 431  225]]\n"
     ]
    }
   ],
   "source": [
    "#XGB scores -- 0.5090\n",
    "print(accuracy_score(y_test, y_pred))\n",
    "print(mean_squared_error(y_test, y_pred))\n",
    "print(f1_score(y_test, y_pred))\n",
    "print(confusion_matrix(y_test, y_pred))"
   ]
  },
  {
   "cell_type": "code",
   "execution_count": 87,
   "metadata": {},
   "outputs": [
    {
     "name": "stdout",
     "output_type": "stream",
     "text": [
      "0.9438862064465614\n",
      "0.0561137935534386\n",
      "0.5179372197309416\n",
      "[[7002    5]\n",
      " [ 425  231]]\n"
     ]
    }
   ],
   "source": [
    "#GBC scores -- 0.5179\n",
    "print(accuracy_score(y_test, y_pred))\n",
    "print(mean_squared_error(y_test, y_pred))\n",
    "print(f1_score(y_test, y_pred))\n",
    "print(confusion_matrix(y_test, y_pred))"
   ]
  },
  {
   "cell_type": "code",
   "execution_count": 115,
   "metadata": {},
   "outputs": [],
   "source": [
    "#ColumnTransformer?\n",
    "#FeatureUnion?\n",
    "#Pipeline?\n",
    "#StandardScaler?\n",
    "#OneHotEncoder?\n",
    "#SimpleImputer?\n",
    "#LogisticRegression?\n",
    "#LogisticRegressionCV?\n",
    "#train_test_split?\n",
    "#GridSearchCV?\n",
    "#RandomizedSearchCV?\n",
    "#KFold?\n",
    "#Ridge?"
   ]
  },
  {
   "cell_type": "code",
   "execution_count": null,
   "metadata": {},
   "outputs": [],
   "source": [
    "test_data = pd.read_csv('C:/Users/Arthur/data-projects/DataScienceNigeria_ML_Course_Practice/datasets/train.csv')\n",
    "test_data.head()"
   ]
  },
  {
   "cell_type": "code",
   "execution_count": null,
   "metadata": {},
   "outputs": [],
   "source": [
    "test_data.info()"
   ]
  },
  {
   "cell_type": "code",
   "execution_count": null,
   "metadata": {},
   "outputs": [],
   "source": [
    "print(test_data.isnull().values.any())\n",
    "print(test_data.shape)"
   ]
  },
  {
   "cell_type": "code",
   "execution_count": null,
   "metadata": {},
   "outputs": [],
   "source": [
    "test_X = test_data\n",
    "#y = data.Promoted_or_Not\n",
    "test_z = test_data.EmployeeNo\n",
    "print(test_X.shape, test_z.shape)\n",
    "test_X = test_X.drop(labels='EmployeeNo', axis=1) # dropped EmployeeNo since I cant categorize it\n",
    "print(test_X.shape, test_z.shape)"
   ]
  },
  {
   "cell_type": "code",
   "execution_count": null,
   "metadata": {},
   "outputs": [],
   "source": [
    "#imp = SimpleImputer(strategy='most_frequent')\n",
    "#X_imputed = imp.fit_transform(X)\n",
    "test_X_imputed = imp.transform(test_X)\n",
    "test_X_imputed = pd.DataFrame.from_records(test_X_imputed, columns=test_X.columns)\n",
    "#test_X_imputed.columns = test_X.columns\n",
    "print(test_X_imputed.columns is test_X.columns)"
   ]
  },
  {
   "cell_type": "code",
   "execution_count": null,
   "metadata": {},
   "outputs": [],
   "source": [
    "print(test_X_imputed.isnull().values.any())\n",
    "print(test_X_imputed.shape, X_imputed.shape)"
   ]
  },
  {
   "cell_type": "code",
   "execution_count": null,
   "metadata": {},
   "outputs": [],
   "source": [
    "test_X_imputed.head()"
   ]
  },
  {
   "cell_type": "code",
   "execution_count": null,
   "metadata": {},
   "outputs": [],
   "source": [
    "test_pred = pipe.predict(test_X_imputed)\n",
    "test_pred"
   ]
  },
  {
   "cell_type": "code",
   "execution_count": null,
   "metadata": {},
   "outputs": [],
   "source": [
    "output = pd.DataFrame({'EmployeeNo': test_z, 'Promoted_or_Not': test_pred})\n",
    "output.to_csv('submission_1.csv', index=False)"
   ]
  },
  {
   "cell_type": "code",
   "execution_count": null,
   "metadata": {},
   "outputs": [],
   "source": []
  },
  {
   "cell_type": "code",
   "execution_count": null,
   "metadata": {},
   "outputs": [],
   "source": [
    "#Test different classifiers to find the best performer out of the box with default values\n",
    "clfs = {#'mnb': MultinomialNB(),  #found -ve values....\n",
    "        'gnb': GaussianNB(),\n",
    "        'ber': BernoulliNB(),\n",
    "        'svm1': SVC(kernel='linear'),\n",
    "        'svm2': SVC(kernel='rbf'),\n",
    "        'svm3': SVC(kernel='sigmoid'),\n",
    "        'mlp1': MLPClassifier(),\n",
    "        'mlp2': MLPClassifier(hidden_layer_sizes=[100, 100]),\n",
    "        'ada': AdaBoostClassifier(),\n",
    "        'dtc': DecisionTreeClassifier(),\n",
    "        'rfc': RandomForestClassifier(),\n",
    "        'gbc': GradientBoostingClassifier(),   #Seems like this performs best\n",
    "        'lr': LogisticRegression(),\n",
    "        'xgb': xgb.XGBClassifier()             #Seems like this performs second best\n",
    "       }\n",
    "\n",
    "\n",
    "f1_scores = dict()\n",
    "for clf_name in clfs:\n",
    "    clf = clfs[clf_name]\n",
    "    pipe = Pipeline([('col_transformer', col_transformer),\n",
    "                 ('model', clf)],\n",
    "                verbose=0)    #do not want verbose output\n",
    "    pipe.fit(X_train, y_train)\n",
    "    y_pred = pipe.predict(X_test)\n",
    "    f1_scores[clf_name] = f1_score(y_test, y_pred)\n",
    "    \n",
    "f1_scores"
   ]
  },
  {
   "cell_type": "code",
   "execution_count": 154,
   "metadata": {
    "scrolled": true
   },
   "outputs": [
    {
     "ename": "MemoryError",
     "evalue": "",
     "output_type": "error",
     "traceback": [
      "\u001b[1;31m---------------------------------------------------------------------------\u001b[0m",
      "\u001b[1;31mMemoryError\u001b[0m                               Traceback (most recent call last)",
      "\u001b[1;32m<ipython-input-154-c1820ae93b61>\u001b[0m in \u001b[0;36m<module>\u001b[1;34m\u001b[0m\n\u001b[0;32m     54\u001b[0m                                 \u001b[0mscoring\u001b[0m\u001b[1;33m=\u001b[0m\u001b[1;34m'f1'\u001b[0m\u001b[1;33m,\u001b[0m\u001b[1;33m\u001b[0m\u001b[0m\n\u001b[0;32m     55\u001b[0m                                 verbose=1)\n\u001b[1;32m---> 56\u001b[1;33m     \u001b[0msearch_model\u001b[0m\u001b[1;33m.\u001b[0m\u001b[0mfit\u001b[0m\u001b[1;33m(\u001b[0m\u001b[0mX_train\u001b[0m\u001b[1;33m,\u001b[0m \u001b[0my_train\u001b[0m\u001b[1;33m)\u001b[0m\u001b[1;33m\u001b[0m\u001b[0m\n\u001b[0m\u001b[0;32m     57\u001b[0m     \u001b[0mscores\u001b[0m\u001b[1;33m[\u001b[0m\u001b[0mname\u001b[0m\u001b[1;33m]\u001b[0m \u001b[1;33m=\u001b[0m \u001b[1;33m-\u001b[0m\u001b[0msearch_model\u001b[0m\u001b[1;33m.\u001b[0m\u001b[0mbest_score_\u001b[0m\u001b[1;33m\u001b[0m\u001b[0m\n\u001b[0;32m     58\u001b[0m     \u001b[1;31m#f1_scores[name] = f1_score(y_test, y_pred)\u001b[0m\u001b[1;33m\u001b[0m\u001b[1;33m\u001b[0m\u001b[0m\n",
      "\u001b[1;32mC:\\anaconda3\\lib\\site-packages\\sklearn\\model_selection\\_search.py\u001b[0m in \u001b[0;36mfit\u001b[1;34m(self, X, y, groups, **fit_params)\u001b[0m\n\u001b[0;32m    686\u001b[0m                 \u001b[1;32mreturn\u001b[0m \u001b[0mresults\u001b[0m\u001b[1;33m\u001b[0m\u001b[0m\n\u001b[0;32m    687\u001b[0m \u001b[1;33m\u001b[0m\u001b[0m\n\u001b[1;32m--> 688\u001b[1;33m             \u001b[0mself\u001b[0m\u001b[1;33m.\u001b[0m\u001b[0m_run_search\u001b[0m\u001b[1;33m(\u001b[0m\u001b[0mevaluate_candidates\u001b[0m\u001b[1;33m)\u001b[0m\u001b[1;33m\u001b[0m\u001b[0m\n\u001b[0m\u001b[0;32m    689\u001b[0m \u001b[1;33m\u001b[0m\u001b[0m\n\u001b[0;32m    690\u001b[0m         \u001b[1;31m# For multi-metric evaluation, store the best_index_, best_params_ and\u001b[0m\u001b[1;33m\u001b[0m\u001b[1;33m\u001b[0m\u001b[0m\n",
      "\u001b[1;32mC:\\anaconda3\\lib\\site-packages\\sklearn\\model_selection\\_search.py\u001b[0m in \u001b[0;36m_run_search\u001b[1;34m(self, evaluate_candidates)\u001b[0m\n\u001b[0;32m   1147\u001b[0m     \u001b[1;32mdef\u001b[0m \u001b[0m_run_search\u001b[0m\u001b[1;33m(\u001b[0m\u001b[0mself\u001b[0m\u001b[1;33m,\u001b[0m \u001b[0mevaluate_candidates\u001b[0m\u001b[1;33m)\u001b[0m\u001b[1;33m:\u001b[0m\u001b[1;33m\u001b[0m\u001b[0m\n\u001b[0;32m   1148\u001b[0m         \u001b[1;34m\"\"\"Search all candidates in param_grid\"\"\"\u001b[0m\u001b[1;33m\u001b[0m\u001b[0m\n\u001b[1;32m-> 1149\u001b[1;33m         \u001b[0mevaluate_candidates\u001b[0m\u001b[1;33m(\u001b[0m\u001b[0mParameterGrid\u001b[0m\u001b[1;33m(\u001b[0m\u001b[0mself\u001b[0m\u001b[1;33m.\u001b[0m\u001b[0mparam_grid\u001b[0m\u001b[1;33m)\u001b[0m\u001b[1;33m)\u001b[0m\u001b[1;33m\u001b[0m\u001b[0m\n\u001b[0m\u001b[0;32m   1150\u001b[0m \u001b[1;33m\u001b[0m\u001b[0m\n\u001b[0;32m   1151\u001b[0m \u001b[1;33m\u001b[0m\u001b[0m\n",
      "\u001b[1;32mC:\\anaconda3\\lib\\site-packages\\sklearn\\model_selection\\_search.py\u001b[0m in \u001b[0;36mevaluate_candidates\u001b[1;34m(candidate_params)\u001b[0m\n\u001b[0;32m    650\u001b[0m \u001b[1;33m\u001b[0m\u001b[0m\n\u001b[0;32m    651\u001b[0m             \u001b[1;32mdef\u001b[0m \u001b[0mevaluate_candidates\u001b[0m\u001b[1;33m(\u001b[0m\u001b[0mcandidate_params\u001b[0m\u001b[1;33m)\u001b[0m\u001b[1;33m:\u001b[0m\u001b[1;33m\u001b[0m\u001b[0m\n\u001b[1;32m--> 652\u001b[1;33m                 \u001b[0mcandidate_params\u001b[0m \u001b[1;33m=\u001b[0m \u001b[0mlist\u001b[0m\u001b[1;33m(\u001b[0m\u001b[0mcandidate_params\u001b[0m\u001b[1;33m)\u001b[0m\u001b[1;33m\u001b[0m\u001b[0m\n\u001b[0m\u001b[0;32m    653\u001b[0m                 \u001b[0mn_candidates\u001b[0m \u001b[1;33m=\u001b[0m \u001b[0mlen\u001b[0m\u001b[1;33m(\u001b[0m\u001b[0mcandidate_params\u001b[0m\u001b[1;33m)\u001b[0m\u001b[1;33m\u001b[0m\u001b[0m\n\u001b[0;32m    654\u001b[0m \u001b[1;33m\u001b[0m\u001b[0m\n",
      "\u001b[1;31mMemoryError\u001b[0m: "
     ]
    }
   ],
   "source": [
    "#gbc = GradientBoostingClassifier(),\n",
    "#xgb = xgb.XGBClassifier()\n",
    "estimators = {'gbc': GradientBoostingClassifier(),\n",
    "              #'xgb': xgb.XGBClassifier()\n",
    "             }\n",
    "\n",
    "# Set params_grid for xgb hyper-parameter tuning\n",
    "xgb_params = {'max_depth': randint(1, 7),          # default 3\n",
    "              'learning_rate': uniform(0.03, 0.5), # default 0.1\n",
    "              'n_estimators': randint(50, 150),    # default 100\n",
    "              'gamma': uniform(0, 1.5),            # default 0\n",
    "              'min_child_weight': randint(0, 3),   # default 1\n",
    "              'max_delta_step': randint(0, 3),     # default 0\n",
    "              'subsample': uniform(0.6, 0.4),      # default 1 **\n",
    "              'colsample_bytree': uniform(0.7, 0.3),   # default 1\n",
    "              'colsample_bylevel': uniform(0.7, 0.3),  # default 1\n",
    "              'colsample_bynode': uniform(0.7, 0.3),   # default 1\n",
    "              'reg_alpha': uniform(0, 1.5),            # default 0\n",
    "              'reg_lambda': uniform(0.6, 0.4),         # default 1\n",
    "              'scale_pos_weight': uniform(0.7, 0.3),   # default 1\n",
    "              'base_score': uniform(0.7, 0.3),         # default 0.5   \n",
    "             }\n",
    "\n",
    "# Set params_grid for gbc hyper-parameter tuning\n",
    "gbc_params = {'loss': ['deviance', 'exponential'],     # default deviance\n",
    "              #'learning_rate': uniform(0.03, 0.5),     # default 0.1\n",
    "              'learning_rate': np.logspace(-0.9, , 10),     # default 0.1\n",
    "              #'n_estimators': randint(50, 150),        # default 100\n",
    "              'n_estimators': range(50, 150, 5),        # default 100\n",
    "              'subsample': np.logspace(0.5, 1.5, 10),          # default 1\n",
    "              'criterion': ['friedman_mse', 'mse', 'mae'],   # default friedman_mse\n",
    "              'min_samples_split': range(1, 7),            # default 2\n",
    "              'min_samples_leaf': range(1, 7),             # default 1\n",
    "              'min_weight_fraction_leaf': np.logspace(0.01, 1.59, 10),     # default 0.0\n",
    "              'max_depth': range(1, 7),                          # default 3,\n",
    "              'min_impurity_decrease': np.logspace(0.01, 1.59, 10),        # default 0.0\n",
    "              'warm_start': [False, True],                         # default False\n",
    "              'validation_fraction': np.logspace(0.01, 1.00, 10),          # default 0.1,\n",
    "              'n_iter_no_change': range(1, 7)                    # default None,\n",
    "             }\n",
    "\n",
    "hyper_param_dict = {'gbc': gbc_params, \n",
    "                    #'xgb': xgb_params\n",
    "                   }\n",
    "scores = {}\n",
    "#f1_scores = {}\n",
    "\n",
    "# Use this to get the best hyperparams for the two estimators\n",
    "# Then use one of them in the final model with a search grid\n",
    "for name, estimator in estimators.items():\n",
    "    search_model = GridSearchCV(estimator, \n",
    "                                hyper_param_dict[name], \n",
    "                                cv=5, \n",
    "                                scoring='f1', \n",
    "                                verbose=1)\n",
    "    search_model.fit(X_train, y_train)\n",
    "    scores[name] = -search_model.best_score_\n",
    "    #f1_scores[name] = f1_score(y_test, y_pred)\n",
    "    \n",
    "print(scores)    \n",
    "#print(f1_scores)"
   ]
  },
  {
   "cell_type": "code",
   "execution_count": 160,
   "metadata": {},
   "outputs": [
    {
     "name": "stdout",
     "output_type": "stream",
     "text": [
      "[ 1.02329299  1.07202295  1.12307346  1.17655503  1.23258343  1.29127995\n",
      "  1.35277164  1.41719161  1.4846793   1.5553808   1.62944917  1.70704472\n",
      "  1.78833543  1.87349726  1.96271455  2.05618044  2.15409725  2.25667692\n",
      "  2.36414151  2.47672365  2.59466703  2.71822695  2.84767089  2.98327904\n",
      "  3.12534496  3.27417615  3.43009479  3.5934384   3.76456054  3.94383164\n",
      "  4.13163977  4.32839145  4.53451259  4.75044937  4.97666922  5.21366181\n",
      "  5.46194017  5.72204173  5.9945295   6.27999335  6.57905119  6.89235038\n",
      "  7.2205691   7.56441784  7.92464091  8.30201805  8.69736618  9.11154106\n",
      "  9.54543926 10.        ]\n",
      "50\n"
     ]
    }
   ],
   "source": [
    "print(np.logspace(0.01, 1.00))\n",
    "print(len(np.logspace(0.01, 1.00)))"
   ]
  },
  {
   "cell_type": "code",
   "execution_count": 144,
   "metadata": {},
   "outputs": [],
   "source": [
    "#xgb.XGBClassifier?\n",
    "GradientBoostingClassifier?\n",
    "#randint?\n",
    "#uniform?"
   ]
  },
  {
   "cell_type": "code",
   "execution_count": 130,
   "metadata": {
    "scrolled": true
   },
   "outputs": [
    {
     "data": {
      "text/plain": [
       "['accuracy',\n",
       " 'adjusted_mutual_info_score',\n",
       " 'adjusted_rand_score',\n",
       " 'average_precision',\n",
       " 'balanced_accuracy',\n",
       " 'brier_score_loss',\n",
       " 'completeness_score',\n",
       " 'explained_variance',\n",
       " 'f1',\n",
       " 'f1_macro',\n",
       " 'f1_micro',\n",
       " 'f1_samples',\n",
       " 'f1_weighted',\n",
       " 'fowlkes_mallows_score',\n",
       " 'homogeneity_score',\n",
       " 'jaccard',\n",
       " 'jaccard_macro',\n",
       " 'jaccard_micro',\n",
       " 'jaccard_samples',\n",
       " 'jaccard_weighted',\n",
       " 'max_error',\n",
       " 'mutual_info_score',\n",
       " 'neg_log_loss',\n",
       " 'neg_mean_absolute_error',\n",
       " 'neg_mean_squared_error',\n",
       " 'neg_mean_squared_log_error',\n",
       " 'neg_median_absolute_error',\n",
       " 'normalized_mutual_info_score',\n",
       " 'precision',\n",
       " 'precision_macro',\n",
       " 'precision_micro',\n",
       " 'precision_samples',\n",
       " 'precision_weighted',\n",
       " 'r2',\n",
       " 'recall',\n",
       " 'recall_macro',\n",
       " 'recall_micro',\n",
       " 'recall_samples',\n",
       " 'recall_weighted',\n",
       " 'roc_auc',\n",
       " 'v_measure_score']"
      ]
     },
     "execution_count": 130,
     "metadata": {},
     "output_type": "execute_result"
    }
   ],
   "source": [
    "import sklearn\n",
    "sorted(sklearn.metrics.SCORERS.keys())"
   ]
  },
  {
   "cell_type": "code",
   "execution_count": 15,
   "metadata": {},
   "outputs": [
    {
     "name": "stderr",
     "output_type": "stream",
     "text": [
      "C:\\anaconda3\\lib\\importlib\\_bootstrap.py:219: RuntimeWarning: numpy.ufunc size changed, may indicate binary incompatibility. Expected 192 from C header, got 216 from PyObject\n",
      "  return f(*args, **kwds)\n",
      "C:\\anaconda3\\lib\\importlib\\_bootstrap.py:219: RuntimeWarning: numpy.ufunc size changed, may indicate binary incompatibility. Expected 192 from C header, got 216 from PyObject\n",
      "  return f(*args, **kwds)\n"
     ]
    }
   ],
   "source": [
    "from sklearn.ensemble import GradientBoostingClassifier\n",
    "from sklearn.model_selection import RandomizedSearchCV\n",
    "import numpy as np\n",
    "\n",
    "import xgboost as xgb"
   ]
  },
  {
   "cell_type": "code",
   "execution_count": 17,
   "metadata": {},
   "outputs": [],
   "source": [
    "GradientBoostingClassifier?\n",
    "#RandomizedSearchCV?\n",
    "#np.linspace(0.1, 1.0, 10, endpoint=True)\n",
    "#GradientBoostingClassifier.fit?\n",
    "#xgb.XGBClassifier.fit?"
   ]
  }
 ],
 "metadata": {
  "kernelspec": {
   "display_name": "Python 3",
   "language": "python",
   "name": "python3"
  },
  "language_info": {
   "codemirror_mode": {
    "name": "ipython",
    "version": 3
   },
   "file_extension": ".py",
   "mimetype": "text/x-python",
   "name": "python",
   "nbconvert_exporter": "python",
   "pygments_lexer": "ipython3",
   "version": "3.6.5"
  }
 },
 "nbformat": 4,
 "nbformat_minor": 2
}
